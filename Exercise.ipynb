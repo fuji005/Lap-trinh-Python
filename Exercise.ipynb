{
 "cells": [
  {
   "metadata": {
    "ExecuteTime": {
     "end_time": "2025-03-31T03:35:07.849583Z",
     "start_time": "2025-03-31T03:35:03.984440Z"
    }
   },
   "cell_type": "code",
   "source": [
    "\"\"\"Write a  Python program to calculate the length of a string.\"\"\"\n",
    "a = input(\"Nhap chuoi: \")\n",
    "print(len(a))"
   ],
   "outputs": [
    {
     "name": "stdout",
     "output_type": "stream",
     "text": [
      "2\n"
     ]
    }
   ],
   "execution_count": 104
  },
  {
   "metadata": {
    "ExecuteTime": {
     "end_time": "2025-03-31T03:35:46.554043Z",
     "start_time": "2025-03-31T03:35:40.929949Z"
    }
   },
   "cell_type": "code",
   "source": [
    "\"\"\"2. Write a Python program to count the number of characters (character frequency) in a string.\"\"\"\n",
    "\n",
    "a = input(\"Nhap chuoi: \")\n",
    "my_dict = dict()\n",
    "\n",
    "for x in a:\n",
    "    if x in my_dict:\n",
    "        my_dict[x] += 1\n",
    "    else:\n",
    "        my_dict[x]= 1\n",
    "\n",
    "print(a)\n",
    "for x in my_dict:\n",
    "    print(f\"{x} : {my_dict[x]}\")\n",
    "\n"
   ],
   "outputs": [
    {
     "name": "stdout",
     "output_type": "stream",
     "text": [
      "Helloooh\n",
      "H : 1\n",
      "e : 1\n",
      "l : 2\n",
      "o : 3\n",
      "h : 1\n"
     ]
    }
   ],
   "execution_count": 106
  },
  {
   "cell_type": "code",
   "execution_count": 34,
   "metadata": {},
   "outputs": [
    {
     "name": "stdout",
     "output_type": "stream",
     "text": [
      "w3w3\n"
     ]
    }
   ],
   "source": [
    "\"\"\"3. Write a Python program to get a string made of the first 2 and last 2 characters of a given\n",
    "string. If the string length is less than 2, return the empty string instead.\"\"\"\n",
    "\n",
    "a = input(\"Nhap chuoi: \")\n",
    "if len(a) >= 2:\n",
    "    b = a[:2] + a[-2:]\n",
    "    print(b)\n",
    "else: print(\"Empty string\")"
   ]
  },
  {
   "cell_type": "code",
   "metadata": {
    "ExecuteTime": {
     "end_time": "2025-03-31T03:38:22.793948Z",
     "start_time": "2025-03-31T03:38:12.478247Z"
    }
   },
   "source": [
    "\"\"\"4. Write a Python program to get a string from a given string where all occurrences of its first\n",
    "char have been changed to '$', except the first char itself.\n",
    "\"\"\"\n",
    "\n",
    "a =  input(\"Nhap chuoi: \")\n",
    "a = a.lower()\n",
    "b = a[:1]\n",
    "a = a.replace(f\"{a[:1]}\",\"$\")\n",
    "print(b + a[1:])"
   ],
   "outputs": [
    {
     "name": "stdout",
     "output_type": "stream",
     "text": [
      "hi my name is $oang $e$e\n"
     ]
    }
   ],
   "execution_count": 109
  },
  {
   "cell_type": "code",
   "execution_count": 44,
   "metadata": {},
   "outputs": [
    {
     "name": "stdout",
     "output_type": "stream",
     "text": [
      "xyc abz\n"
     ]
    }
   ],
   "source": [
    "\"\"\"5. Write a Python program to get a single string from two given strings, separated by a space and\n",
    "swap the first two characters of each string.\n",
    "\"\"\"\n",
    "\n",
    "a1 = input(\"Nhap chuoi 1: \")\n",
    "a2 = input(\"Nhap chuoi 2: \")\n",
    "\n",
    "b1 = a2[:2] + a1[-1:]\n",
    "b2 = a1[:2] + a2[-1:]\n",
    "print(f\"{b1} {b2}\")\n"
   ]
  },
  {
   "cell_type": "code",
   "execution_count": 49,
   "metadata": {},
   "outputs": [
    {
     "name": "stdout",
     "output_type": "stream",
     "text": [
      "hi\n"
     ]
    }
   ],
   "source": [
    "\"\"\"6. Write a Python program to add 'ing' at the end of a given string (length should be at least 3). If\n",
    "the given string already ends with 'ing', add 'ly' instead. If the string length of the given string is\n",
    "less than 3, leave it unchanged.\"\"\"\n",
    "\n",
    "a = input(\"Nhap chuoi: \")\n",
    "if len(a) >= 3:\n",
    "    if \"ing\" in a:\n",
    "        print(a + \"ly\")\n",
    "    else:\n",
    "        print(a + \"ing\")\n",
    "else: print(a)"
   ]
  },
  {
   "cell_type": "code",
   "metadata": {
    "ExecuteTime": {
     "end_time": "2025-03-31T03:33:10.560158Z",
     "start_time": "2025-03-31T03:33:10.556276Z"
    }
   },
   "source": [
    "\"\"\"7. Write a Python program to find the first appearance of the substrings 'not' and 'poor' in a given\n",
    "string. If 'not' follows 'poor', replace the whole 'not'...'poor' substring with 'good'. Return the\n",
    "resulting string.\n",
    "\"\"\"\n",
    "\n",
    "a = input(\"Nhap chuoi: \")\n",
    "not_index = a.find(\"not\")\n",
    "poor_index = a.find(\"poor\")\n",
    "\n",
    "if \"not\" in a and \"poor\" in a:\n",
    "   a = a.replace(f\"{a[not_index:poor_index+4]}\", \"good\")\n",
    "\n",
    "print(a)"
   ],
   "outputs": [
    {
     "name": "stdout",
     "output_type": "stream",
     "text": [
      "The lyrics is not that hkdd!\n"
     ]
    }
   ],
   "execution_count": 100
  },
  {
   "metadata": {
    "ExecuteTime": {
     "end_time": "2025-03-31T04:05:51.331012Z",
     "start_time": "2025-03-31T04:05:41.391244Z"
    }
   },
   "cell_type": "code",
   "source": [
    "\"\"\"8. Write a  Python function that takes a list of words and return the longest word and the length\n",
    "of the longest one.\"\"\"\n",
    "\n",
    "my_list = list()\n",
    "a = int(input(\"Co bao nhieu tu: \"))\n",
    "x = 1\n",
    "while x <= a:\n",
    "    b = input(f\"Nhap tu so {x}: \")\n",
    "    my_list.append(b)\n",
    "    x += 1\n",
    "print(my_list)\n",
    "\n",
    "longest_word = \"\"\n",
    "len_word = 0\n",
    "for x in my_list:\n",
    "    if len(x) > len_word:\n",
    "        len_word = len(x)\n",
    "        longest_word = x\n",
    "print(f\"Tu dai nhat la: {longest_word} voi {len_word} chu\")\n"
   ],
   "outputs": [
    {
     "name": "stdout",
     "output_type": "stream",
     "text": [
      "['Ba', 'Me']\n",
      "Tu dai nhat la: Ba voi 2 chu\n"
     ]
    }
   ],
   "execution_count": 121
  },
  {
   "metadata": {
    "ExecuteTime": {
     "end_time": "2025-03-31T04:21:50.892622Z",
     "start_time": "2025-03-31T04:21:41.173676Z"
    }
   },
   "cell_type": "code",
   "outputs": [
    {
     "name": "stdout",
     "output_type": "stream",
     "text": [
      "Xin chao\n",
      "Xoa ky tu so 6\n",
      "Xin cao\n"
     ]
    }
   ],
   "execution_count": 146,
   "source": [
    "\"\"\"9. Write a Python program to remove the nth index character from a nonempty string.\"\"\"\n",
    "\n",
    "a = input(\"Nhap chuoi: \")\n",
    "n = int(input(\"Nhap stt ky tu muon xoa: \"))\n",
    "print(a)\n",
    "print(f\"Xoa ky tu so {n}\")\n",
    "print(a.replace(f\"{a[n-1]}\",\"\"))"
   ]
  },
  {
   "metadata": {
    "ExecuteTime": {
     "end_time": "2025-03-31T07:49:42.818221Z",
     "start_time": "2025-03-31T07:49:34.009156Z"
    }
   },
   "cell_type": "code",
   "source": [
    "\"\"\"10. Write a  Python program to change a given string to a newly string where the first and last\n",
    "chars have been exchanged.\"\"\"\n",
    "\n",
    "a = input(\"Nhap chuoi: \")\n",
    "a = a[-1] + a[1:-1] + a[0]\n",
    "print(a)"
   ],
   "outputs": [
    {
     "name": "stdout",
     "output_type": "stream",
     "text": [
      "Hin chaoX\n"
     ]
    }
   ],
   "execution_count": 176
  },
  {
   "metadata": {
    "ExecuteTime": {
     "end_time": "2025-03-31T08:04:14.890416Z",
     "start_time": "2025-03-31T08:04:09.460226Z"
    }
   },
   "cell_type": "code",
   "source": [
    "\"\"\"11. Write a Python program to remove characters that have odd index values in a given string\"\"\"\n",
    "\n",
    "a = input(\"Nhap chuoi: \")\n",
    "print(a)\n",
    "new_a = \"\"\n",
    "for x in range(len(a)):\n",
    "    if x % 2 == 0:\n",
    "        new_a = new_a + a[x]\n",
    "print(new_a)"
   ],
   "outputs": [
    {
     "name": "stdout",
     "output_type": "stream",
     "text": [
      "Hello ba nha\n",
      "Hlob h\n"
     ]
    }
   ],
   "execution_count": 191
  },
  {
   "metadata": {
    "ExecuteTime": {
     "end_time": "2025-04-01T02:52:20.256775Z",
     "start_time": "2025-04-01T02:52:06.454800Z"
    }
   },
   "cell_type": "code",
   "source": [
    "\"\"\"12. Write a Python program to count the occurrences of each word in a given sentence.\"\"\"\n",
    "\n",
    "a = input(\"Nhap chuoi: \")\n",
    "print(a)\n",
    "b = a.split()\n",
    "my_dict = dict()\n",
    "\n",
    "for x in b:\n",
    "    if x in my_dict:\n",
    "        my_dict[x] += 1\n",
    "    else:\n",
    "        my_dict[x] = 1\n",
    "\n",
    "print(my_dict)"
   ],
   "outputs": [
    {
     "name": "stdout",
     "output_type": "stream",
     "text": [
      "hello my quao my is hy my hello\n",
      "{'hello': 2, 'my': 3, 'quao': 1, 'is': 1, 'hy': 1}\n"
     ]
    }
   ],
   "execution_count": 6
  },
  {
   "metadata": {
    "ExecuteTime": {
     "end_time": "2025-04-01T06:23:51.464029Z",
     "start_time": "2025-04-01T06:23:42.809595Z"
    }
   },
   "cell_type": "code",
   "source": [
    "\"\"\"13. Write a  Python  script that takes input from the user and displays that input back in upper\n",
    "and lower cases.\"\"\"\n",
    "a = input(\"Nhap chuoi: \")\n",
    "print(a)\n",
    "print(a.upper())\n",
    "print(a.lower())"
   ],
   "outputs": [
    {
     "name": "stdout",
     "output_type": "stream",
     "text": [
      "My name is Linh\n",
      "MY NAME IS LINH\n",
      "my name is linh\n"
     ]
    }
   ],
   "execution_count": 2
  },
  {
   "metadata": {
    "ExecuteTime": {
     "end_time": "2025-04-01T08:26:14.909304Z",
     "start_time": "2025-04-01T08:26:01.264579Z"
    }
   },
   "cell_type": "code",
   "source": [
    "\"\"\"14. Write a Python program that accepts a comma-separated sequence of words as input and\n",
    "prints the distinct words in sorted form (alphanumerically).\"\"\"\n",
    "\n",
    "a = input(\"Nhap chuoi: \").split(\",\")\n",
    "a = [x.strip() for x in a]\n",
    "print(a)\n",
    "a = list(set(a))\n",
    "a.sort()\n",
    "print(a)"
   ],
   "outputs": [
    {
     "name": "stdout",
     "output_type": "stream",
     "text": [
      "['red', 'green', 'red', 'black']\n",
      "['black', 'green', 'red']\n"
     ]
    }
   ],
   "execution_count": 78
  },
  {
   "metadata": {
    "ExecuteTime": {
     "end_time": "2025-04-01T15:07:56.234384Z",
     "start_time": "2025-04-01T15:07:56.222999Z"
    }
   },
   "cell_type": "code",
   "source": [
    "\"\"\"15. Write a  Python function to create an HTML string with tags around the word(s).\"\"\"\n",
    "\n",
    "def add_tags(a,b):\n",
    "    print(f\"<{a}>{b}</{a}>\")\n",
    "\n",
    "add_tags(\"b\",\"Python Tutorial\")"
   ],
   "outputs": [
    {
     "name": "stdout",
     "output_type": "stream",
     "text": [
      "<b>Python Tutorial</b>\n"
     ]
    }
   ],
   "execution_count": 1
  },
  {
   "metadata": {
    "ExecuteTime": {
     "end_time": "2025-04-01T15:24:51.065490Z",
     "start_time": "2025-04-01T15:24:51.048717Z"
    }
   },
   "cell_type": "code",
   "source": [
    "\"\"\"16. Write a Python function to insert a string in the middle of a string. \"\"\"\n",
    "def insert_string_middle(string_a,string_b):\n",
    "    middle = int(len(string_a)/2)\n",
    "    print(string_a[:middle] + string_b + string_a[middle:])\n",
    "insert_string_middle(\"{{}}\",\"HPH\")"
   ],
   "outputs": [
    {
     "name": "stdout",
     "output_type": "stream",
     "text": [
      "{{HPH}}\n"
     ]
    }
   ],
   "execution_count": 8
  },
  {
   "metadata": {
    "ExecuteTime": {
     "end_time": "2025-04-02T00:52:40.727282Z",
     "start_time": "2025-04-02T00:52:40.715746Z"
    }
   },
   "cell_type": "code",
   "source": [
    "\"\"\"17. Write a Python function to get a string made of 4 copies of the last two characters of a\n",
    "specified string (length must be at least 2). \"\"\"\n",
    "\n",
    "def insert_end(word):\n",
    "    if len(word) >= 2:\n",
    "        print(word[-2:] + word[-2:] + word[-2:] + word[-2:])\n",
    "    else: print(\"length must be at least 2\")\n",
    "insert_end(\"Python\")"
   ],
   "outputs": [
    {
     "name": "stdout",
     "output_type": "stream",
     "text": [
      "onononon\n"
     ]
    }
   ],
   "execution_count": 5
  },
  {
   "metadata": {
    "ExecuteTime": {
     "end_time": "2025-04-02T01:08:56.679018Z",
     "start_time": "2025-04-02T01:08:56.671916Z"
    }
   },
   "cell_type": "code",
   "source": [
    "\"\"\"18. Write a  Python function to get a string made of the first three characters of a specified string.\n",
    "If the length of the string is less than 3, return the original string.\"\"\"\n",
    "\n",
    "def first_three(word):\n",
    "    if len(word) > 3:\n",
    "        print(word[:3])\n",
    "    else: print(word)\n",
    "first_three(\"python\")"
   ],
   "outputs": [
    {
     "name": "stdout",
     "output_type": "stream",
     "text": [
      "pyt\n"
     ]
    }
   ],
   "execution_count": 15
  },
  {
   "metadata": {
    "ExecuteTime": {
     "end_time": "2025-04-02T01:19:45.665592Z",
     "start_time": "2025-04-02T01:19:45.659395Z"
    }
   },
   "cell_type": "code",
   "source": [
    "\"\"\"19. Write a Python program to get the last part of a string before a specified character.\"\"\"\n",
    "def last_part(string, char):\n",
    "    print (string.rsplit(f\"{char}\",1)[0])\n",
    "last_part(\"hello/world/nha\", \"/\")"
   ],
   "outputs": [
    {
     "name": "stdout",
     "output_type": "stream",
     "text": [
      "hello/world\n"
     ]
    }
   ],
   "execution_count": 33
  },
  {
   "metadata": {
    "ExecuteTime": {
     "end_time": "2025-04-02T01:29:09.018710Z",
     "start_time": "2025-04-02T01:29:09.005888Z"
    }
   },
   "cell_type": "code",
   "source": [
    "\"\"\"20. Write a  Python function to reverse a string if its length is a multiple of 4.\"\"\"\n",
    "def reverse(string):\n",
    "    if len(string) % 4 == 0:\n",
    "        return \"\".join(reversed(string))\n",
    "    else: return \"length is not a multiple of 4\"\n",
    "\n",
    "reverse(\"hellohit\")"
   ],
   "outputs": [
    {
     "data": {
      "text/plain": [
       "'tiholleh'"
      ]
     },
     "execution_count": 52,
     "metadata": {},
     "output_type": "execute_result"
    }
   ],
   "execution_count": 52
  },
  {
   "metadata": {
    "ExecuteTime": {
     "end_time": "2025-04-02T01:50:39.405951Z",
     "start_time": "2025-04-02T01:50:39.394777Z"
    }
   },
   "cell_type": "code",
   "source": [
    "\"\"\"21. Write a Python function to convert a given string to all uppercase if it contains at least 2\n",
    "uppercase characters in the first 4 characters.\n",
    "\"\"\"\n",
    "def uppercase(string):\n",
    "    if len(string) < 2:\n",
    "        return \"The length of given string must more than 2\"\n",
    "    if len(string) >= 2 and len(string) <= 4:\n",
    "        num_upper = 0\n",
    "        for x in range(len(string)):\n",
    "            if string[x].isupper():\n",
    "                num_upper += 1\n",
    "        if num_upper >= 2:\n",
    "            return string.upper()\n",
    "        else: return f\"{string} not contains at least 2 uppercase charaters\"\n",
    "    if len(string) > 4:\n",
    "        num_upper = 0\n",
    "        for x in range(4):\n",
    "            if string[x].isupper():\n",
    "                num_upper += 1\n",
    "        if num_upper >= 2:\n",
    "            return string.upper()\n",
    "        else: return f\"{string} does not contains at least 2 uppercase charaters\"\n",
    "\n",
    "print(uppercase(\"HeLlo\"))\n",
    "print(uppercase(\"H\"))\n",
    "print(uppercase(\"Hello\"))"
   ],
   "outputs": [
    {
     "name": "stdout",
     "output_type": "stream",
     "text": [
      "HELLO\n",
      "The length of given string must more than 2\n",
      "Hello does not contains at least 2 uppercase charaters\n"
     ]
    }
   ],
   "execution_count": 74
  },
  {
   "metadata": {
    "ExecuteTime": {
     "end_time": "2025-04-02T02:34:49.441135Z",
     "start_time": "2025-04-02T02:34:25.744504Z"
    }
   },
   "cell_type": "code",
   "source": [
    "\"\"\"22.Write a  Python program to sort a string lexicographically\"\"\"\n",
    "\n",
    "a = input(\"Nhap chuoi\").split()\n",
    "a.sort()\n",
    "print(\" \".join(a))"
   ],
   "outputs": [
    {
     "name": "stdout",
     "output_type": "stream",
     "text": [
      "123 ae anh em\n"
     ]
    }
   ],
   "execution_count": 82
  },
  {
   "metadata": {
    "ExecuteTime": {
     "end_time": "2025-04-02T02:52:32.207768Z",
     "start_time": "2025-04-02T02:52:32.200703Z"
    }
   },
   "cell_type": "code",
   "source": [
    "\"\"\"23. Write a Python program to remove a newline in Python.\"\"\"\n",
    "\n",
    "a = \" hello \\n world\"\n",
    "print(a)\n",
    "print(\"\".join(a.splitlines()))"
   ],
   "outputs": [
    {
     "name": "stdout",
     "output_type": "stream",
     "text": [
      " hello \n",
      " world\n",
      " hello  world\n"
     ]
    }
   ],
   "execution_count": 92
  },
  {
   "metadata": {
    "ExecuteTime": {
     "end_time": "2025-04-02T02:46:24.600888Z",
     "start_time": "2025-04-02T02:46:13.565235Z"
    }
   },
   "cell_type": "code",
   "source": [
    "\"\"\"24. Write a Python program to check whether a string starts with specified characters.\"\"\"\n",
    "\n",
    "def check(string, char):\n",
    "    if string[0] == char:\n",
    "        return \"True\"\n",
    "    else: return \"False\"\n",
    "\n",
    "a = input(\"Nhap tu: \")\n",
    "b = input(\"Nhap ky tu: \")\n",
    "check(a,b)"
   ],
   "outputs": [
    {
     "data": {
      "text/plain": [
       "'True'"
      ]
     },
     "execution_count": 83,
     "metadata": {},
     "output_type": "execute_result"
    }
   ],
   "execution_count": 83
  },
  {
   "metadata": {
    "ExecuteTime": {
     "end_time": "2025-04-03T09:55:56.130764Z",
     "start_time": "2025-04-03T09:55:39.105078Z"
    }
   },
   "cell_type": "code",
   "source": [
    "\"\"\"25. Write a Python program to create a Caesar encryption.\"\"\"\n",
    "\n",
    "def ceasar_encryption (text, shift): #HELLO\n",
    "    new_text = []\n",
    "    for x in text:\n",
    "        text_pos = ord(x)\n",
    "        if 65 <= text_pos <= 90: # vị trí chữ hoa\n",
    "            new_text_pos = ((text_pos - 65 + shift) % 26) + 65\n",
    "            new_text.append(chr(new_text_pos))\n",
    "        if 97 <= text_pos <= 122: # vị trí chữ thuong\n",
    "            new_text_pos = ((text_pos - 97 + shift) % 26 + 97)\n",
    "            new_text.append(chr(new_text_pos))\n",
    "        else: new_text.append(x)\n",
    "    encrypted_text = \"\".join(new_text)\n",
    "    return encrypted_text\n",
    "\n",
    "a = input(\"Nhap van ban: \")\n",
    "b = int(input(\"Nhap buoc nhay: \"))\n",
    "ceasar_encryption(a,b)"
   ],
   "outputs": [
    {
     "data": {
      "text/plain": [
       "'KHhoor, zruog!'"
      ]
     },
     "execution_count": 26,
     "metadata": {},
     "output_type": "execute_result"
    }
   ],
   "execution_count": 26
  },
  {
   "metadata": {
    "ExecuteTime": {
     "end_time": "2025-04-03T10:05:06.197505Z",
     "start_time": "2025-04-03T10:05:06.191443Z"
    }
   },
   "cell_type": "code",
   "source": [
    "\"\"\"26. Write a  Python program to display formatted text (width=50) as output. \"\"\"\n",
    "import textwrap\n",
    "\n",
    "def format_text(text, width=50):\n",
    "    formatted_text = textwrap.fill(text, width)\n",
    "    print(formatted_text)\n",
    "\n",
    "sample_text = \"\"\"In cryptography, a Caesar cipher, also known as Caesar's cipher, the shift cipher, Caesar's\n",
    "code or Caesar shift, is one of the simplest and most widely known encryption techniques. It is a\n",
    "type of substitution cipher in which each letter in the plaintext is replaced by a letter some fixed\n",
    "number of positions down the alphabet. For example, with a left shift of 3, D would be replaced\n",
    "by A, E would become B, and so on. The method is named after Julius Caesar, who used it in his\n",
    "private correspondence.\"\"\"\n",
    "\n",
    "format_text(sample_text)\n"
   ],
   "outputs": [
    {
     "name": "stdout",
     "output_type": "stream",
     "text": [
      "In cryptography, a Caesar cipher, also known as\n",
      "Caesar's cipher, the shift cipher, Caesar's code\n",
      "or Caesar shift, is one of the simplest and most\n",
      "widely known encryption techniques. It is a type\n",
      "of substitution cipher in which each letter in the\n",
      "plaintext is replaced by a letter some fixed\n",
      "number of positions down the alphabet. For\n",
      "example, with a left shift of 3, D would be\n",
      "replaced by A, E would become B, and so on. The\n",
      "method is named after Julius Caesar, who used it\n",
      "in his private correspondence.\n"
     ]
    }
   ],
   "execution_count": 28
  },
  {
   "metadata": {
    "ExecuteTime": {
     "end_time": "2025-04-04T08:46:38.515320Z",
     "start_time": "2025-04-04T08:46:38.509078Z"
    }
   },
   "cell_type": "code",
   "source": [
    "\"\"\"27. Write a  Python program to remove existing indentation from all of the lines in a given text.\"\"\"\n",
    "\n",
    "def remove_indentation(text):\n",
    "    dong = text.splitlines()\n",
    "    a = [line.lstrip() for line in dong]\n",
    "    new_text = '\\n'.join(a)\n",
    "\n",
    "    return new_text\n",
    "\n",
    "sample_text = \"\"\"\n",
    "    def hello():\n",
    "        print(\"Hello, world!\")\n",
    "\n",
    "    hello()\n",
    "\"\"\"\n",
    "\n",
    "print(\"Original:\" + sample_text)\n",
    "print(\"New:\" + remove_indentation(sample_text))"
   ],
   "outputs": [
    {
     "name": "stdout",
     "output_type": "stream",
     "text": [
      "Original:\n",
      "    def hello():\n",
      "        print(\"Hello, world!\")\n",
      "\n",
      "    hello()\n",
      "\n",
      "New:\n",
      "def hello():\n",
      "print(\"Hello, world!\")\n",
      "\n",
      "hello()\n"
     ]
    }
   ],
   "execution_count": 3
  },
  {
   "metadata": {
    "ExecuteTime": {
     "end_time": "2025-04-02T03:10:30.075860Z",
     "start_time": "2025-04-02T03:10:22.255896Z"
    }
   },
   "cell_type": "code",
   "source": [
    "\"\"\"28. Write a Python program to add prefix text to all of the lines in a string.\"\"\"\n",
    "a = input(\"Nhap chuoi: \").split()\n",
    "prefix_text = input(\"Nhap tien to: \")\n",
    "print(\"\\n\".join(prefix_text + line for line in a))\n"
   ],
   "outputs": [
    {
     "name": "stdout",
     "output_type": "stream",
     "text": [
      "xhello\n",
      "xhi\n",
      "xha\n"
     ]
    }
   ],
   "execution_count": 105
  },
  {
   "metadata": {
    "ExecuteTime": {
     "end_time": "2025-04-04T08:49:38.128349Z",
     "start_time": "2025-04-04T08:49:38.122591Z"
    }
   },
   "cell_type": "code",
   "source": [
    "\"\"\"29. 29. Write a Python program to set the indentation of the first line. \"\"\"\n",
    "\n",
    "def indent_first_line(text, num_spaces):\n",
    "    lines = text.splitlines()\n",
    "    if lines:\n",
    "        indent = ' ' * num_spaces\n",
    "        lines[0] = indent + lines[0].lstrip()\n",
    "\n",
    "    return '\\n'.join(lines)\n",
    "\n",
    "sample_text = \"\"\"def hello():\n",
    "    print(\"Hello, world!\")\n",
    "hello()\n",
    "\"\"\"\n",
    "\n",
    "print(sample_text)\n",
    "new_text = indent_first_line(sample_text, 4)\n",
    "print(\"New:\\n \" + new_text)\n"
   ],
   "outputs": [
    {
     "name": "stdout",
     "output_type": "stream",
     "text": [
      "def hello():\n",
      "    print(\"Hello, world!\")\n",
      "hello()\n",
      "\n",
      "New:\n",
      "     def hello():\n",
      "    print(\"Hello, world!\")\n",
      "hello()\n"
     ]
    }
   ],
   "execution_count": 5
  },
  {
   "metadata": {
    "ExecuteTime": {
     "end_time": "2025-04-04T08:42:39.892921Z",
     "start_time": "2025-04-04T08:41:34.635030Z"
    }
   },
   "cell_type": "code",
   "source": [
    "\"\"\"30. Write a Python program to print the following numbers up to 2 decimal places\"\"\"\n",
    "a = float(input(\"Nhap so\"))\n",
    "print(f\"{a:.2f}\")"
   ],
   "outputs": [
    {
     "name": "stdout",
     "output_type": "stream",
     "text": [
      "4.00\n"
     ]
    }
   ],
   "execution_count": 1
  }
 ],
 "metadata": {
  "kernelspec": {
   "display_name": "base",
   "language": "python",
   "name": "python3"
  },
  "language_info": {
   "codemirror_mode": {
    "name": "ipython",
    "version": 3
   },
   "file_extension": ".py",
   "mimetype": "text/x-python",
   "name": "python",
   "nbconvert_exporter": "python",
   "pygments_lexer": "ipython3",
   "version": "3.12.7"
  }
 },
 "nbformat": 4,
 "nbformat_minor": 2
}
