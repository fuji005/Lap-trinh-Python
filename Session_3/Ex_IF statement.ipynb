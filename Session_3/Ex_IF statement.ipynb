{
 "cells": [
  {
   "cell_type": "code",
   "id": "initial_id",
   "metadata": {
    "collapsed": true,
    "ExecuteTime": {
     "end_time": "2025-04-05T02:23:22.601706Z",
     "start_time": "2025-04-05T02:23:22.584068Z"
    }
   },
   "source": [
    "\"\"\"Write a program to check a person is eligible for voting or not (saccept age from user)\"\"\"\n",
    "def ex01():\n",
    "    a = int(input(\"Nhap tuoi: \"))\n",
    "    if a >= 18:\n",
    "        print(\"Is eligible for voting\")\n",
    "    else: print(\"Not eligible for voting\")"
   ],
   "outputs": [],
   "execution_count": 1
  },
  {
   "metadata": {
    "ExecuteTime": {
     "end_time": "2025-04-05T02:44:00.903592Z",
     "start_time": "2025-04-05T02:43:57.446450Z"
    }
   },
   "cell_type": "code",
   "source": [
    "\"\"\"Write a program to check whether a number entered by user is even or odd\"\"\"\n",
    "def ex02():\n",
    "    a = int(input(\"Nhap so: \"))\n",
    "    print(a)\n",
    "    print(\"Even number\") if a%2==0 else print(\"Odd number\")\n",
    "\n",
    "ex02()"
   ],
   "id": "41b084c6a1a1feca",
   "outputs": [
    {
     "name": "stdout",
     "output_type": "stream",
     "text": [
      "46\n",
      "Even number\n"
     ]
    }
   ],
   "execution_count": 28
  },
  {
   "metadata": {
    "ExecuteTime": {
     "end_time": "2025-04-05T02:43:46.536752Z",
     "start_time": "2025-04-05T02:43:42.728320Z"
    }
   },
   "cell_type": "code",
   "source": [
    "\"\"\"Write a program to check whether a number is divisible by 7 or not.\"\"\"\n",
    "def ex03():\n",
    "    a = int(input(\"Nhap so: \"))\n",
    "    print(a)\n",
    "    print(f\"{a} is divisible by 7\") if a%7==0 else print(f\"{a} is not divisible by 7\")\n",
    "\n",
    "ex03()"
   ],
   "id": "d4b90aa00029807d",
   "outputs": [
    {
     "name": "stdout",
     "output_type": "stream",
     "text": [
      "48\n",
      "48 is not divisible by 7\n"
     ]
    }
   ],
   "execution_count": 27
  },
  {
   "metadata": {
    "ExecuteTime": {
     "end_time": "2025-04-05T02:43:34.775019Z",
     "start_time": "2025-04-05T02:43:29.149911Z"
    }
   },
   "cell_type": "code",
   "source": [
    "\"\"\"Write a program to check the last digit of a  number (entered by user) is divisible by 3 or not.\"\"\"\n",
    "def ex04():\n",
    "    a = input(\"Nhap so: \")\n",
    "    print(a)\n",
    "    b = int(a[-1:])\n",
    "    print(f\"{b} is divisible by 3\") if b%3==0 else print(f\"{b} is not divisible by 3\")\n",
    "\n",
    "ex04()"
   ],
   "id": "d797ce2aad118466",
   "outputs": [
    {
     "name": "stdout",
     "output_type": "stream",
     "text": [
      "456\n",
      "6 is divisible by 3\n"
     ]
    }
   ],
   "execution_count": 26
  },
  {
   "metadata": {
    "ExecuteTime": {
     "end_time": "2025-04-05T02:43:16.526137Z",
     "start_time": "2025-04-05T02:43:12.536876Z"
    }
   },
   "cell_type": "code",
   "source": [
    "\"\"\"Write a Python program to guess a number between 1 and 9.\"\"\"\n",
    "import random\n",
    "def ex05():\n",
    "    num = random.randint(1,9)\n",
    "    guess_num = int(input(\"Guess a number from 1 to 9: \"))\n",
    "    if guess_num == num:\n",
    "        print(\"CORRECT!\")\n",
    "    else: print(f\"Wrong, the answer is {num}\")\n",
    "\n",
    "ex05()"
   ],
   "id": "f03fc5fad2c82ca5",
   "outputs": [
    {
     "name": "stdout",
     "output_type": "stream",
     "text": [
      "Wrong, the answer is 8\n"
     ]
    }
   ],
   "execution_count": 25
  },
  {
   "metadata": {
    "ExecuteTime": {
     "end_time": "2025-04-05T02:42:58.386917Z",
     "start_time": "2025-04-05T02:42:55.071032Z"
    }
   },
   "cell_type": "code",
   "source": [
    "\"\"\"Write a program to accept a number from 1 to 7 and display the name of the day like 1 for Sunday, 2 for Monday and so on.\"\"\"\n",
    "def ex06():\n",
    "    a = int(input(\"Nhap so: \"))\n",
    "    print(a)\n",
    "    if 1 <= a <= 7:\n",
    "        if a==1:\n",
    "            print(\"Sunday\")\n",
    "        if a==2:\n",
    "            print(\"Monday\")\n",
    "        if a==3:\n",
    "            print(\"Tuesday\")\n",
    "        if a==4:\n",
    "            print(\"Wednesday\")\n",
    "        if a==5:\n",
    "            print(\"Thursday\")\n",
    "        if a==6:\n",
    "            print(\"Friday\")\n",
    "        if a==7:\n",
    "            print(\"Saturday\")\n",
    "    else: print(\"Vui long nhap so tu 1 den 7\")\n",
    "\n",
    "ex06()"
   ],
   "id": "12c083e2ae44c594",
   "outputs": [
    {
     "name": "stdout",
     "output_type": "stream",
     "text": [
      "5\n",
      "Thursday\n"
     ]
    }
   ],
   "execution_count": 23
  }
 ],
 "metadata": {
  "kernelspec": {
   "display_name": "Python 3",
   "language": "python",
   "name": "python3"
  },
  "language_info": {
   "codemirror_mode": {
    "name": "ipython",
    "version": 2
   },
   "file_extension": ".py",
   "mimetype": "text/x-python",
   "name": "python",
   "nbconvert_exporter": "python",
   "pygments_lexer": "ipython2",
   "version": "2.7.6"
  }
 },
 "nbformat": 4,
 "nbformat_minor": 5
}
