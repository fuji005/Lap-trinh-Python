{
 "cells": [
  {
   "metadata": {
    "ExecuteTime": {
     "end_time": "2025-04-05T03:20:24.325013Z",
     "start_time": "2025-04-05T03:20:24.314915Z"
    }
   },
   "cell_type": "code",
   "source": [
    "def ex01():\n",
    "    base = int(input(\"Nhap base: \"))\n",
    "    height = int(input(\"Nhap height: \"))\n",
    "    area = 0.5*base*height\n",
    "    print(area)"
   ],
   "id": "d7a087d34d55978b",
   "outputs": [],
   "execution_count": 50
  },
  {
   "metadata": {
    "collapsed": true,
    "ExecuteTime": {
     "end_time": "2025-04-05T01:13:11.027732Z",
     "start_time": "2025-04-05T01:13:11.014103Z"
    }
   },
   "cell_type": "code",
   "outputs": [],
   "execution_count": 2,
   "source": [
    "def ex02():\n",
    "    a = float(input(\"Nhap canh a: \"))\n",
    "    b = float(input(\"Nhap canh b: \"))\n",
    "    c = float(input(\"Nhap canh c: \"))\n",
    "    perimeter = a + b + c\n",
    "    print(f\"The perimeter of the triangle: {perimeter}\")"
   ],
   "id": "initial_id"
  },
  {
   "metadata": {
    "ExecuteTime": {
     "end_time": "2025-04-05T01:18:56.675585Z",
     "start_time": "2025-04-05T01:18:56.663471Z"
    }
   },
   "cell_type": "code",
   "source": [
    "def ex03():\n",
    "    lenght = float(input(\"Nhap chieu dai: \"))\n",
    "    width = float(input(\"Nhap chieu rong: \"))\n",
    "    area = lenght*width\n",
    "    perimeter = 2*(lenght+width)\n",
    "    print(f\"Area: {area}\\nPerimeter: {perimeter}\")"
   ],
   "id": "8686fbbe5878c612",
   "outputs": [],
   "execution_count": 1
  },
  {
   "metadata": {},
   "cell_type": "code",
   "outputs": [],
   "execution_count": null,
   "source": [
    "def ex04():\n",
    "    pi = float(3.14)\n",
    "    r = float(input(\"Nhap ban kinh: \"))\n",
    "    area = pi*r*r\n",
    "    circumference = 2*pi*r\n",
    "    print(f\"Area: {area}\\nCircumference: {circumference}\")\n",
    "\n",
    "ex04()"
   ],
   "id": "f59635a1371c9c18"
  },
  {
   "metadata": {
    "ExecuteTime": {
     "end_time": "2025-04-05T03:28:46.081590Z",
     "start_time": "2025-04-05T03:28:46.074770Z"
    }
   },
   "cell_type": "code",
   "source": [
    "def ex05():\n",
    "    a = 2\n",
    "    b = -2\n",
    "    print(f\"y = {a}*x + {b}\")\n",
    "    slope = a\n",
    "    y_intercept = b\n",
    "    x_intercept = -b/a\n",
    "    print(f\"Slope: {slope}\\nX_intercept: ({x_intercept:.0f},0)\\nY_intercept: (0,{y_intercept})\")\n",
    "\n",
    "ex05()"
   ],
   "id": "21267bc7035e181b",
   "outputs": [
    {
     "name": "stdout",
     "output_type": "stream",
     "text": [
      "y = 2*x + -2\n",
      "Slope: 2\n",
      "X_intercept: (1,0)\n",
      "Y_intercept: (0,-2)\n"
     ]
    }
   ],
   "execution_count": 54
  },
  {
   "metadata": {
    "ExecuteTime": {
     "end_time": "2025-04-05T03:28:59.813104Z",
     "start_time": "2025-04-05T03:28:59.803889Z"
    }
   },
   "cell_type": "code",
   "source": [
    "def ex06():\n",
    "    x1,y1 = 2,2\n",
    "    x2,y2 = 6,10\n",
    "    m = (y2-y1)/(x2-x1)\n",
    "    e_distance = ((x2-x1)**2+(y2-y1)**2)//0.5\n",
    "    print(f\"Slope: {m}\\nEuclidean distance: {e_distance}\")\n",
    "\n",
    "ex06()"
   ],
   "id": "5e3cb361d9d9e79",
   "outputs": [
    {
     "name": "stdout",
     "output_type": "stream",
     "text": [
      "Slope: 2.0\n",
      "Euclidean distance: 160.0\n"
     ]
    }
   ],
   "execution_count": 55
  },
  {
   "metadata": {
    "ExecuteTime": {
     "end_time": "2025-04-05T02:58:54.044787Z",
     "start_time": "2025-04-05T02:58:50.081937Z"
    }
   },
   "cell_type": "code",
   "source": [
    "def ex08():\n",
    "    x = int(input(\"Nhap x: \"))\n",
    "    y = x**2 + 6*x + 9\n",
    "    print(f\"x = {x} --> y = {y}\")\n",
    "    for x in range(-10,10):\n",
    "        y = x**2 + 6*x + 9\n",
    "        if y == 0:\n",
    "            print(f\"x = {x} --> y = 0\")\n",
    "ex08()"
   ],
   "id": "b13899236b43b375",
   "outputs": [
    {
     "name": "stdout",
     "output_type": "stream",
     "text": [
      "x = 4 --> y = 49\n",
      "x = -3 --> y = 0\n"
     ]
    }
   ],
   "execution_count": 39
  },
  {
   "metadata": {
    "ExecuteTime": {
     "end_time": "2025-04-05T03:05:17.842524Z",
     "start_time": "2025-04-05T03:05:17.836723Z"
    }
   },
   "cell_type": "code",
   "source": [
    "def ex09():\n",
    "    a = \"python\"\n",
    "    b = \"dragon\"\n",
    "    print(f\"python: {len(a)}\\ndragon: {len(b)}\")\n",
    "    print(f\"False comparison: {len(a)} != {len(b)}\")\n",
    "\n",
    "\n",
    "ex09()"
   ],
   "id": "85c38144a6681c34",
   "outputs": [
    {
     "name": "stdout",
     "output_type": "stream",
     "text": [
      "python: 6\n",
      "dragon: 6\n",
      "False comparison: 6 != 6\n"
     ]
    }
   ],
   "execution_count": 41
  },
  {
   "metadata": {
    "ExecuteTime": {
     "end_time": "2025-04-05T03:06:56.975118Z",
     "start_time": "2025-04-05T03:06:56.969910Z"
    }
   },
   "cell_type": "code",
   "source": [
    "def ex10():\n",
    "    if \"on\" in \"python\" and \"dragon\":\n",
    "        print(\"True\")\n",
    "    else: print(\"False\")\n",
    "\n",
    "ex10()"
   ],
   "id": "79081e14cde241a",
   "outputs": [
    {
     "name": "stdout",
     "output_type": "stream",
     "text": [
      "True\n"
     ]
    }
   ],
   "execution_count": 42
  },
  {
   "metadata": {
    "ExecuteTime": {
     "end_time": "2025-04-05T03:09:04.740098Z",
     "start_time": "2025-04-05T03:09:04.727773Z"
    }
   },
   "cell_type": "code",
   "source": [
    "def ex11():\n",
    "    a = \"I hope this course is not full of jargon\"\n",
    "    if \"jargon\" in a:\n",
    "        print(\"True\")\n",
    "    else: print(\"False\")\n",
    "\n",
    "ex11()"
   ],
   "id": "674770efdfc9abdc",
   "outputs": [
    {
     "name": "stdout",
     "output_type": "stream",
     "text": [
      "True\n"
     ]
    }
   ],
   "execution_count": 43
  },
  {
   "metadata": {
    "ExecuteTime": {
     "end_time": "2025-04-05T03:13:38.204198Z",
     "start_time": "2025-04-05T03:13:33.942030Z"
    }
   },
   "cell_type": "code",
   "source": [
    "def ex13():\n",
    "    a = input(\"Nhap text: \")\n",
    "    print(a + f\": {len(a)}\")\n",
    "    b = float(len(a))\n",
    "    print(f\"{b}: {type(b)}\")\n",
    "    b = str(b)\n",
    "    print(f\"{b}: {type(b)}\")\n",
    "\n",
    "ex13()"
   ],
   "id": "48590e150e7c61ea",
   "outputs": [
    {
     "name": "stdout",
     "output_type": "stream",
     "text": [
      "heeloo: 6\n",
      "6.0: <class 'float'>\n",
      "6.0: <class 'str'>\n"
     ]
    }
   ],
   "execution_count": 48
  },
  {
   "metadata": {
    "ExecuteTime": {
     "end_time": "2025-04-05T03:17:31.310822Z",
     "start_time": "2025-04-05T03:17:28.436088Z"
    }
   },
   "cell_type": "code",
   "source": [
    "def ex14():\n",
    "    a = int(input(\"Nhap so: \"))\n",
    "    print(a)\n",
    "    if a%2 == 0:\n",
    "        print(\"Even number\")\n",
    "    else: print(\"Not even number\")\n",
    "\n",
    "ex14()"
   ],
   "id": "e4ead0913af38bb1",
   "outputs": [
    {
     "name": "stdout",
     "output_type": "stream",
     "text": [
      "4\n",
      "Even number\n"
     ]
    }
   ],
   "execution_count": 49
  },
  {
   "metadata": {
    "ExecuteTime": {
     "end_time": "2025-04-05T03:22:19.566371Z",
     "start_time": "2025-04-05T03:22:19.557334Z"
    }
   },
   "cell_type": "code",
   "source": [
    "def ex15():\n",
    "    hours = int(input(\"Nhap gio lam: \"))\n",
    "    rate_per_hour = int(input(\"Nhap muc luong theo gio\"))\n",
    "    salary = hours*rate_per_hour\n",
    "    print(f\"Muc luong: {salary}\")\n"
   ],
   "id": "8789d2716941063b",
   "outputs": [],
   "execution_count": 51
  },
  {
   "metadata": {
    "ExecuteTime": {
     "end_time": "2025-04-05T03:28:02.862283Z",
     "start_time": "2025-04-05T03:28:02.847258Z"
    }
   },
   "cell_type": "code",
   "source": [
    "def ex16():\n",
    "    year = int(input(\"Nhap nam: \"))\n",
    "    second = year*365*24*60*60\n",
    "    print(f\"So giay trong {year} nam: {second}\")"
   ],
   "id": "a8a2f5503389abd0",
   "outputs": [],
   "execution_count": 52
  }
 ],
 "metadata": {
  "kernelspec": {
   "display_name": "Python 3",
   "language": "python",
   "name": "python3"
  },
  "language_info": {
   "codemirror_mode": {
    "name": "ipython",
    "version": 2
   },
   "file_extension": ".py",
   "mimetype": "text/x-python",
   "name": "python",
   "nbconvert_exporter": "python",
   "pygments_lexer": "ipython2",
   "version": "2.7.6"
  }
 },
 "nbformat": 4,
 "nbformat_minor": 5
}
