{
 "cells": [
  {
   "cell_type": "code",
   "id": "initial_id",
   "metadata": {
    "collapsed": true,
    "ExecuteTime": {
     "end_time": "2025-04-08T06:15:41.658029Z",
     "start_time": "2025-04-08T06:15:41.642888Z"
    }
   },
   "source": [
    "\"\"\"1. write a program that prints numbers from 1 to 10\"\"\"\n",
    "\n",
    "for x in range(1,11):\n",
    "    print(x)"
   ],
   "outputs": [
    {
     "name": "stdout",
     "output_type": "stream",
     "text": [
      "1\n",
      "2\n",
      "3\n",
      "4\n",
      "5\n",
      "6\n",
      "7\n",
      "8\n",
      "9\n",
      "10\n"
     ]
    }
   ],
   "execution_count": 2
  },
  {
   "metadata": {
    "ExecuteTime": {
     "end_time": "2025-04-08T06:22:17.719359Z",
     "start_time": "2025-04-08T06:22:15.154956Z"
    }
   },
   "cell_type": "code",
   "source": [
    "\"\"\"2. Write a program to calculate the sum of numbers in a range from 1 to n (n is entered from the keyboard)\"\"\"\n",
    "\n",
    "sum = 0\n",
    "n = int(input(\"Nhap n: \"))\n",
    "print(n)\n",
    "for x in range (1,n+1):\n",
    "    sum += x\n",
    "\n",
    "print(f\"Tong tu 1 toi {n} la: {sum}\")"
   ],
   "id": "4f486cb046aa29d0",
   "outputs": [
    {
     "name": "stdout",
     "output_type": "stream",
     "text": [
      "4\n",
      "Tong tu 1 toi 4 la: 10\n"
     ]
    }
   ],
   "execution_count": 5
  },
  {
   "metadata": {
    "ExecuteTime": {
     "end_time": "2025-04-08T06:23:38.044277Z",
     "start_time": "2025-04-08T06:23:35.168188Z"
    }
   },
   "cell_type": "code",
   "source": [
    "\"\"\"3. Write a program to calculate the sum of even (/odd) numbers in a range from 1 to n (n is entered from the keyboard)\"\"\"\n",
    "\n",
    "sum_even = 0\n",
    "sum_odd = 0\n",
    "n = int(input(\"Nhap n: \"))\n",
    "print(n)\n",
    "\n",
    "for x in range(1,n+1):\n",
    "    if x%2 == 0:\n",
    "        sum_even += x\n",
    "    else:\n",
    "        sum_odd += x\n",
    "print(f\"Tong cua so chan tu 1 den {n}: {sum_even}\")\n",
    "print(f\"Tong cua so le tu 1 den {n}: {sum_odd}\")"
   ],
   "id": "7b33b7164538d1e3",
   "outputs": [
    {
     "name": "stdout",
     "output_type": "stream",
     "text": [
      "5\n",
      "Tong cua so chan tu 1 den 5: 6\n",
      "Tong cua so le tu 1 den 5: 9\n"
     ]
    }
   ],
   "execution_count": 6
  },
  {
   "metadata": {
    "ExecuteTime": {
     "end_time": "2025-04-08T06:28:44.990559Z",
     "start_time": "2025-04-08T06:28:33.041048Z"
    }
   },
   "cell_type": "code",
   "source": [
    "\"\"\"4. Write a program to check how many vowels are in a string entered from the keyboard.\"\"\"\n",
    "\n",
    "vowels = [\"u\",\"e\",\"o\",\"a\",\"i\"]\n",
    "count = 0\n",
    "a = input(\"Nhap tu: \")\n",
    "for x in a:\n",
    "    if x in vowels:\n",
    "        count += 1\n",
    "print(a)\n",
    "print(f\"Number of vowels: {count}\")\n"
   ],
   "id": "63c8f83679ff34b2",
   "outputs": [
    {
     "name": "stdout",
     "output_type": "stream",
     "text": [
      "hello world\n",
      "Number of vowels: 3\n"
     ]
    }
   ],
   "execution_count": 8
  },
  {
   "metadata": {
    "ExecuteTime": {
     "end_time": "2025-04-08T06:36:47.308548Z",
     "start_time": "2025-04-08T06:36:32.719169Z"
    }
   },
   "cell_type": "code",
   "source": [
    "\"\"\"5. Write a program to count the number of words in a sentence the user enters.\"\"\"\n",
    "\n",
    "words = input(\"Nhap tu: \").split()\n",
    "print(\" \".join(words))\n",
    "word_dict = dict()\n",
    "for x in words:\n",
    "    if x in word_dict:\n",
    "        word_dict[f\"{x}\"] += 1\n",
    "    else:\n",
    "        word_dict[f\"{x}\"] = 1\n",
    "print(word_dict)"
   ],
   "id": "ff8300d9f0239fd1",
   "outputs": [
    {
     "name": "stdout",
     "output_type": "stream",
     "text": [
      "hello world haha hoho hihi haha hello\n",
      "{'hello': 2, 'world': 1, 'haha': 2, 'hoho': 1, 'hihi': 1}\n"
     ]
    }
   ],
   "execution_count": 12
  },
  {
   "metadata": {
    "ExecuteTime": {
     "end_time": "2025-04-08T07:42:44.270509Z",
     "start_time": "2025-04-08T07:41:51.454695Z"
    }
   },
   "cell_type": "code",
   "source": [
    "\"\"\"Write a program that implements a game as the following description:\n",
    "\n",
    "\t1. The computer generates a random number from 1 to 100\n",
    "\n",
    "\t2. The user was asked to guess\n",
    "\n",
    "\t3. match the user-guessing number to the generated number\n",
    "\n",
    "The user can only guess five times.\n",
    "You are asked for enhancing this game by giving the level for selection.\n",
    "\n",
    "hard: 4 times,\n",
    "medium: 6 times,\n",
    "easy: 10 times\"\"\"\n",
    "\n",
    "import random\n",
    "num = random.randint(1,100)\n",
    "choice = int(input(\"3 Levels\\nhard: 4 times\\nmedium: 6 times\\neasy: 10 times\\nYour choice is (4/6/10 times): \"))\n",
    "x = 0\n",
    "print(f\"Your level: {choice} times\")\n",
    "for x in range(choice):\n",
    "    guess_num = int(input(\"Nhap so ban doan: \"))\n",
    "    if guess_num == num:\n",
    "        print(f\"{guess_num}\")\n",
    "        print(\"Chuc mung ban da doan dung!\")\n",
    "        break\n",
    "    if guess_num > num:\n",
    "        print(f\"{guess_num}\")\n",
    "        print(\"Dap an la mot so nho hon\")\n",
    "    if guess_num < num:\n",
    "        print(f\"{guess_num}\")\n",
    "        print(\"Dap an la mot so lon hon\")\n",
    "if x == choice:\n",
    "    print(f\"Dap an la: {num}\")"
   ],
   "id": "eb372e3341149c21",
   "outputs": [
    {
     "name": "stdout",
     "output_type": "stream",
     "text": [
      "6\n",
      "50\n",
      "Dap an la mot so lon hon\n",
      "75\n",
      "Dap an la mot so lon hon\n",
      "86\n",
      "Dap an la mot so lon hon\n",
      "92\n",
      "Dap an la mot so lon hon\n",
      "97\n",
      "Dap an la mot so lon hon\n",
      "99\n",
      "Chuc mung ban da doan dung!\n"
     ]
    }
   ],
   "execution_count": 38
  }
 ],
 "metadata": {
  "kernelspec": {
   "display_name": "Python 3",
   "language": "python",
   "name": "python3"
  },
  "language_info": {
   "codemirror_mode": {
    "name": "ipython",
    "version": 2
   },
   "file_extension": ".py",
   "mimetype": "text/x-python",
   "name": "python",
   "nbconvert_exporter": "python",
   "pygments_lexer": "ipython2",
   "version": "2.7.6"
  }
 },
 "nbformat": 4,
 "nbformat_minor": 5
}
