{
 "cells": [
  {
   "cell_type": "code",
   "id": "initial_id",
   "metadata": {
    "collapsed": true,
    "ExecuteTime": {
     "end_time": "2025-04-19T01:44:26.864299Z",
     "start_time": "2025-04-19T01:44:26.850763Z"
    }
   },
   "source": [
    "# 1. Sum all items in list\n",
    "\n",
    "sum = 0\n",
    "my_list = [1,2,3,4,5]\n",
    "for x in my_list:\n",
    "    sum += x\n",
    "print(sum)"
   ],
   "outputs": [
    {
     "name": "stdout",
     "output_type": "stream",
     "text": [
      "15\n"
     ]
    }
   ],
   "execution_count": 1
  },
  {
   "metadata": {
    "ExecuteTime": {
     "end_time": "2025-04-19T01:45:39.082598Z",
     "start_time": "2025-04-19T01:45:39.074159Z"
    }
   },
   "cell_type": "code",
   "source": [
    "# 2. Multiply all items in list\n",
    "\n",
    "mul = 1\n",
    "my_list = [1,2,3,4,5]\n",
    "for x in my_list:\n",
    "    mul *= x\n",
    "print(mul)"
   ],
   "id": "28261602ff15d596",
   "outputs": [
    {
     "name": "stdout",
     "output_type": "stream",
     "text": [
      "120\n"
     ]
    }
   ],
   "execution_count": 4
  },
  {
   "metadata": {
    "ExecuteTime": {
     "end_time": "2025-04-19T01:47:25.089956Z",
     "start_time": "2025-04-19T01:47:25.082242Z"
    }
   },
   "cell_type": "code",
   "source": [
    "# 3. Get the largest number\n",
    "\n",
    "max = 0\n",
    "my_list = [1,2,12,4,5,9,3,8,7]\n",
    "for x in my_list:\n",
    "    if x > max:\n",
    "        max = x\n",
    "print(max)"
   ],
   "id": "4f3fbc4851a0a161",
   "outputs": [
    {
     "name": "stdout",
     "output_type": "stream",
     "text": [
      "12\n"
     ]
    }
   ],
   "execution_count": 5
  },
  {
   "metadata": {
    "ExecuteTime": {
     "end_time": "2025-04-19T01:50:25.554661Z",
     "start_time": "2025-04-19T01:50:25.550074Z"
    }
   },
   "cell_type": "code",
   "source": [
    "# 4. Get the smallest number\n",
    "\n",
    "my_list = [14,2,12,4,5,1,9,3,8,7]\n",
    "min = my_list[0]\n",
    "for x in my_list:\n",
    "    if x < min:\n",
    "        min = x\n",
    "print(min)"
   ],
   "id": "dc6e93c1fa4dec96",
   "outputs": [
    {
     "name": "stdout",
     "output_type": "stream",
     "text": [
      "1\n"
     ]
    }
   ],
   "execution_count": 14
  },
  {
   "metadata": {
    "ExecuteTime": {
     "end_time": "2025-04-19T01:54:27.494819Z",
     "start_time": "2025-04-19T01:54:27.488323Z"
    }
   },
   "cell_type": "code",
   "source": [
    "# 5.\n",
    "\n",
    "my_list = [\"abc\", \"xyz\", \"aba\", \"121\", \"hello\", \"ahaha\", \"i\"]\n",
    "count = 0\n",
    "for x in my_list:\n",
    "    if x[0] == x[-1] and len(x) >= 2:\n",
    "        count += 1\n",
    "print(my_list)\n",
    "print(count)"
   ],
   "id": "f0add483480c9b97",
   "outputs": [
    {
     "name": "stdout",
     "output_type": "stream",
     "text": [
      "['abc', 'xyz', 'aba', '121', 'hello', 'ahaha', 'i']\n",
      "3\n"
     ]
    }
   ],
   "execution_count": 20
  },
  {
   "metadata": {
    "ExecuteTime": {
     "end_time": "2025-04-19T02:03:29.202779Z",
     "start_time": "2025-04-19T02:03:29.196323Z"
    }
   },
   "cell_type": "code",
   "source": [
    "# 6.\n",
    "\n",
    "sample_list = [(2,5), (1,2), (4,4), (2,3), (2,1)]\n",
    "my_list = []\n",
    "for x in sample_list:\n",
    "    print(x)"
   ],
   "id": "fc1c12eac72b0b82",
   "outputs": [
    {
     "name": "stdout",
     "output_type": "stream",
     "text": [
      "(2, 5)\n",
      "(1, 2)\n",
      "(4, 4)\n",
      "(2, 3)\n",
      "(2, 1)\n"
     ]
    }
   ],
   "execution_count": 24
  }
 ],
 "metadata": {
  "kernelspec": {
   "display_name": "Python 3",
   "language": "python",
   "name": "python3"
  },
  "language_info": {
   "codemirror_mode": {
    "name": "ipython",
    "version": 2
   },
   "file_extension": ".py",
   "mimetype": "text/x-python",
   "name": "python",
   "nbconvert_exporter": "python",
   "pygments_lexer": "ipython2",
   "version": "2.7.6"
  }
 },
 "nbformat": 4,
 "nbformat_minor": 5
}
